{
  "nbformat": 4,
  "nbformat_minor": 0,
  "metadata": {
    "colab": {
      "private_outputs": true,
      "provenance": [],
      "collapsed_sections": [
        "w6K7xa23Elo4",
        "8G2x9gOozGDZ",
        "gCX9965dhzqZ",
        "gIfDvo9L0UH2"
      ],
      "include_colab_link": true
    },
    "kernelspec": {
      "name": "python3",
      "display_name": "Python 3"
    },
    "language_info": {
      "name": "python"
    }
  },
  "cells": [
    {
      "cell_type": "markdown",
      "metadata": {
        "id": "view-in-github",
        "colab_type": "text"
      },
      "source": [
        "<a href=\"https://colab.research.google.com/github/Rudraashish7/capstone_project/blob/main/Copy_of_Sample_EDA_Submission_Template.ipynb\" target=\"_parent\"><img src=\"https://colab.research.google.com/assets/colab-badge.svg\" alt=\"Open In Colab\"/></a>"
      ]
    },
    {
      "cell_type": "markdown",
      "source": [
        "# **Project Name**    - World Bank Global Education Analysis (EDA)\n",
        "\n"
      ],
      "metadata": {
        "id": "vncDsAP0Gaoa"
      }
    },
    {
      "cell_type": "markdown",
      "source": [
        "##### **Project Type**    - EDA\n",
        "##### **Contribution**    - Team\n",
        "##### **Team Member 1 -**\n",
        "##### **Team Member 2 -**\n",
        "##### **Team Member 3 -**\n",
        "##### **Team Member 4 -**"
      ],
      "metadata": {
        "id": "beRrZCGUAJYm"
      }
    },
    {
      "cell_type": "markdown",
      "source": [
        "# **Project Summary -**"
      ],
      "metadata": {
        "id": "FJNUwmbgGyua"
      }
    },
    {
      "cell_type": "markdown",
      "source": [
        "The World Bank Global Education Analysis (EDA) project is an ambitious initiative aimed at comprehensively assessing the state of education worldwide. It seeks to analyze key indicators, trends, and challenges in education systems across countries, with the overarching goal of informing evidence-based policies and interventions to improve educational outcomes globally.\n",
        "\n",
        "The project encompasses a wide range of activities and methodologies to provide a holistic understanding of the global education landscape. It begins with the collection and analysis of extensive data on various dimensions of education, such as enrollment rates, learning outcomes, infrastructure, teacher quality, and education financing. This data is sourced from national statistical agencies, international organizations, surveys, and research studies.\n",
        "\n",
        "Through rigorous data analysis, the EDA project identifies patterns, trends, and disparities in educational access, quality, and equity. It delves into understanding the factors influencing educational outcomes, including socioeconomic factors, gender disparities, governance structures, and policy environments. The project also examines the impact of education on economic development, social mobility, and poverty reduction.\n",
        "\n",
        "A key component of the EDA project is the identification of best practices and successful interventions in education. It assesses innovative approaches, policies, and programs implemented by countries to address challenges and achieve positive educational outcomes. By highlighting these success stories, the project aims to foster cross-country learning and facilitate knowledge exchange among policymakers, educators, and stakeholders.\n",
        "\n",
        "The findings and recommendations of the EDA project are disseminated through various channels, including reports, policy briefs, conferences, and online platforms. The World Bank engages with governments, educational institutions, civil society organizations, and development partners to facilitate dialogue and action based on the project's insights. The project also collaborates with academic institutions, think tanks, and research networks to encourage further research and analysis in the field of global education.\n",
        "\n",
        "Ultimately, the World Bank Global Education Analysis project strives to inform evidence-based policies and investments that can transform education systems and contribute to sustainable development. By providing a comprehensive and data-driven understanding of the challenges and opportunities in education, the project aims to support efforts to ensure inclusive, equitable, and quality education for all, thereby advancing the global agenda of achieving the United Nations Sustainable Development Goal 4 (SDG 4) of ensuring inclusive and quality education for all."
      ],
      "metadata": {
        "id": "F6v_1wHtG2nS"
      }
    },
    {
      "cell_type": "markdown",
      "source": [
        "# **GitHub Link -**"
      ],
      "metadata": {
        "id": "w6K7xa23Elo4"
      }
    },
    {
      "cell_type": "markdown",
      "source": [
        "Provide your GitHub Link here."
      ],
      "metadata": {
        "id": "h1o69JH3Eqqn"
      }
    },
    {
      "cell_type": "markdown",
      "source": [
        "# **Problem Statement**\n"
      ],
      "metadata": {
        "id": "yQaldy8SH6Dl"
      }
    },
    {
      "cell_type": "markdown",
      "source": [
        "The global education landscape faces numerous challenges that hinder the achievement of inclusive, equitable, and quality education for all. These challenges necessitate a comprehensive understanding of the key issues and barriers that impede educational progress worldwide. The problem lies in the lack of a comprehensive analysis and assessment of global education systems, hindering the formulation of evidence-based policies and interventions to address these challenges effectively.\n",
        "\n",
        "Limited access and equity: Many children and youth, particularly those from marginalized and disadvantaged backgrounds, still lack access to quality education. Disparities persist in enrollment rates, with girls, children with disabilities, and those in remote or conflict-affected areas facing significant barriers to education. Understanding the factors underlying these disparities and identifying strategies to promote inclusivity and equitable access is crucial.\n",
        "\n",
        "Poor learning outcomes: Despite increased enrollment rates, educational systems often struggle to deliver quality education and ensure that students acquire the necessary knowledge and skills. Learning outcomes remain low in many countries, highlighting the need to identify the root causes, such as inadequate teaching methods, outdated curricula, and a lack of teacher training and support.\n",
        "\n",
        "Insufficient education financing: Education financing gaps pose a significant obstacle to improving education systems globally. Many countries struggle to allocate sufficient resources to education, leading to inadequate infrastructure, limited learning materials, and low teacher salaries. Analyzing education financing mechanisms, identifying innovative funding models, and advocating for increased investment in education are critical steps toward addressing this issue.\n",
        "\n",
        "Weak governance and policy environments: Effective governance structures and policy environments are essential for driving education reform and implementing evidence-based interventions. However, many countries face challenges related to governance, policy coherence, and coordination among stakeholders. Analyzing governance structures, identifying bottlenecks, and recommending policy reforms can strengthen the overall education system.\n",
        "\n",
        "Limited knowledge exchange and cross-country learning: Despite various successful initiatives and interventions in different countries, knowledge exchange and cross-country learning remain limited. Lack of information-sharing and collaboration hampers the identification and adoption of best practices. Facilitating dialogue and knowledge exchange among policymakers, educators, and stakeholders can help overcome this challenge.\n",
        "\n",
        "Addressing these complex and interconnected issues requires a comprehensive analysis of global education systems, including data collection, rigorous research, and evidence-based policy recommendations. The World Bank Global Education Analysis (EDA) project aims to bridge this gap by providing a comprehensive understanding of the challenges and opportunities in education and facilitating evidence-based policy formulation and investments to advance the global education agenda."
      ],
      "metadata": {
        "id": "DpeJGUA3kjGy"
      }
    },
    {
      "cell_type": "markdown",
      "source": [
        "#### **Define Your Business Objective?**"
      ],
      "metadata": {
        "id": "PH-0ReGfmX4f"
      }
    },
    {
      "cell_type": "markdown",
      "source": [
        "The World Bank Global Education Analysis (EDA) project is driven by several key business objectives that guide its operations and outcomes. These objectives are designed to contribute to the improvement of global education systems and the achievement of sustainable development goals. The business objectives of the EDA project include:\n",
        "\n",
        "Inform evidence-based policies: The primary objective of the EDA project is to provide rigorous analysis and insights that inform evidence-based policies in the field of education. By conducting comprehensive research, collecting and analyzing data, and identifying trends and challenges, the project aims to equip policymakers with the necessary information to design and implement effective education policies.\n",
        "\n",
        "Foster knowledge exchange and collaboration: The EDA project seeks to facilitate knowledge exchange and collaboration among stakeholders in the education sector. By disseminating its findings, organizing conferences, and engaging with governments, educational institutions, and development partners, the project aims to foster dialogue and collaboration for the exchange of best practices, successful interventions, and innovative approaches in education.\n",
        "\n",
        "Support decision-making and resource allocation: The project aims to support decision-making processes by providing policymakers and education stakeholders with accurate and reliable data and analysis. By identifying education financing gaps, assessing resource allocation, and highlighting areas of priority, the EDA project aims to assist in strategic decision-making and resource mobilization for education reforms and investments.\n",
        "\n",
        "Promote inclusivity and equity: The EDA project strives to promote inclusivity and equity in education systems worldwide. By analyzing disparities in access, learning outcomes, and education financing, the project aims to identify strategies and interventions that can address these gaps and ensure equitable access to quality education for all, with a particular focus on marginalized and disadvantaged groups.\n",
        "\n",
        "Influence global education agendas: The EDA project aims to influence global education agendas and policy discussions. By producing high-quality reports, policy briefs, and recommendations, the project seeks to contribute to global conversations on education, influencing the development of international frameworks, goals, and strategies, such as the United Nations Sustainable Development Goal 4 (SDG 4) on education.\n",
        "\n",
        "Promote sustainable development: Ultimately, the EDA project aligns with the broader objective of promoting sustainable development through education. By improving educational outcomes, enhancing human capital development, and addressing education-related challenges, the project aims to contribute to poverty reduction, economic growth, social cohesion, and overall sustainable development worldwide.\n",
        "\n",
        "These business objectives guide the activities and outcomes of the World Bank Global Education Analysis (EDA) project, ensuring that its work remains focused on generating actionable insights, informing policies, and promoting inclusive and equitable education systems globally."
      ],
      "metadata": {
        "id": "PhDvGCAqmjP1"
      }
    },
    {
      "cell_type": "markdown",
      "source": [
        "# **General Guidelines** : -"
      ],
      "metadata": {
        "id": "mDgbUHAGgjLW"
      }
    },
    {
      "cell_type": "markdown",
      "source": [
        "1.   Well-structured, formatted, and commented code is required.\n",
        "2.   Exception Handling, Production Grade Code & Deployment Ready Code will be a plus. Those students will be awarded some additional credits.\n",
        "\n",
        "     The additional credits will have advantages over other students during Star Student selection.\n",
        "\n",
        "             [ Note: - Deployment Ready Code is defined as, the whole .ipynb notebook should be executable in one go\n",
        "                       without a single error logged. ]\n",
        "\n",
        "3.   Each and every logic should have proper comments.\n",
        "4. You may add as many number of charts you want. Make Sure for each and every chart the following format should be answered.\n",
        "\n",
        "\n",
        "```\n",
        "# Chart visualization code\n",
        "```\n",
        "\n",
        "\n",
        "*   Why did you pick the specific chart?\n",
        "*   What is/are the insight(s) found from the chart?\n",
        "* Will the gained insights help creating a positive business impact?\n",
        "Are there any insights that lead to negative growth? Justify with specific reason.\n",
        "\n",
        "5. You have to create at least 20 logical & meaningful charts having important insights.\n",
        "\n",
        "\n",
        "[ Hints : - Do the Vizualization in  a structured way while following \"UBM\" Rule.\n",
        "\n",
        "U - Univariate Analysis,\n",
        "\n",
        "B - Bivariate Analysis (Numerical - Categorical, Numerical - Numerical, Categorical - Categorical)\n",
        "\n",
        "M - Multivariate Analysis\n",
        " ]\n",
        "\n",
        "\n",
        "\n"
      ],
      "metadata": {
        "id": "ZrxVaUj-hHfC"
      }
    },
    {
      "cell_type": "markdown",
      "source": [
        "# ***Let's Begin !***"
      ],
      "metadata": {
        "id": "O_i_v8NEhb9l"
      }
    },
    {
      "cell_type": "markdown",
      "source": [
        "## ***1. Know Your Data***"
      ],
      "metadata": {
        "id": "HhfV-JJviCcP"
      }
    },
    {
      "cell_type": "markdown",
      "source": [
        "### Import Libraries"
      ],
      "metadata": {
        "id": "Y3lxredqlCYt"
      }
    },
    {
      "cell_type": "code",
      "source": [
        "# Import Libraries\n",
        "\n",
        "import pandas as pd\n",
        "'''This line imports the pandas library and assigns it the alias \"pd\". Pandas is a powerful library for data manipulation and analysis in Python.'''\n",
        "\n",
        "pd.get_option(\"display.max_columns\")\n",
        "\"\"\"This line retrieves the current value of the maximum number of columns that pandas will display when printing a DataFrame.\n",
        "However, it doesn't store or display the result. It is usually used to check the current setting.\"\"\"\n",
        "\n",
        "import numpy as np\n",
        "'''This line imports the numpy library and assigns it the alias \"np\". Numpy is a fundamental library for numerical computing in Python,\n",
        "providing powerful data structures and mathematical functions.'''\n",
        "\n",
        "from matplotlib import pyplot as plt\n",
        "'''This line imports the pyplot module from the matplotlib library and assigns it the alias \"plt\".\n",
        "Matplotlib is a popular library for creating static, animated, and interactive visualizations in Python.'''\n",
        "\n",
        "%matplotlib inline\n",
        "\"\"\"This line is a special command used in Jupyter Notebook or JupyterLab environments.\n",
        "It enables the inline display of matplotlib plots within the notebook itself.\"\"\"\n",
        "\n",
        "import seaborn as sns\n",
        "\"\"\" This line imports the seaborn library, which is a data visualization library built on top of matplotlib.\n",
        "Seaborn provides a high-level interface for creating attractive and informative statistical graphics. \"\"\"\n"
      ],
      "metadata": {
        "id": "M8Vqi-pPk-HR"
      },
      "execution_count": null,
      "outputs": []
    },
    {
      "cell_type": "markdown",
      "source": [
        "### Dataset Loading"
      ],
      "metadata": {
        "id": "3RnN4peoiCZX"
      }
    },
    {
      "cell_type": "code",
      "source": [
        "# Mounting my drive and allowing to csv file\n",
        "from google.colab import drive\n",
        "drive.mount('/content/drive')"
      ],
      "metadata": {
        "id": "8TMM_zR2xqDZ"
      },
      "execution_count": null,
      "outputs": []
    },
    {
      "cell_type": "code",
      "source": [
        "# Giving the path of the folder containing all the csv file of this project\n",
        "\n",
        "path = '/content/drive/MyDrive/Almabetter global education eda project'"
      ],
      "metadata": {
        "id": "5WH-OYA3y1hI"
      },
      "execution_count": null,
      "outputs": []
    },
    {
      "cell_type": "code",
      "source": [
        "# reading all the csv file present in the folder for our analysis\n",
        "\n",
        "df_EdStatsCountry = pd.read_csv(path+ \"/EdStatsCountry.csv\")\n",
        "df_EdStatsData = pd.read_csv(path + \"/EdStatsData.csv\")\n",
        "df_EdStatsSeries = pd.read_csv(path + \"/EdStatsSeries.csv\")\n",
        "df_EdStatsFootNote = pd.read_csv(path + \"/EdStatsFootNote.csv\")\n",
        "df_EdStatsCountry_Series = pd.read_csv(path + \"/EdStatsCountry-Series.csv\")"
      ],
      "metadata": {
        "id": "4CkvbW_SlZ_R"
      },
      "execution_count": null,
      "outputs": []
    },
    {
      "cell_type": "markdown",
      "source": [
        "# Dataset's First View"
      ],
      "metadata": {
        "id": "x71ZqKXriCWQ"
      }
    },
    {
      "cell_type": "markdown",
      "source": [
        "Now that we have successfully loaded all the necessary files for our analysis, let's proceed with examining the datasets. We will start by inspecting the first few columns of the datasets, exploring the features present in the datasets, and checking the continuity of data points.\n",
        "\n",
        "To accomplish this, we will utilize the following commands:\n",
        "\n",
        "\n",
        "\n",
        "*   `df_dataset.head():` This command displays the first few rows of the dataset, allowing us to quickly preview the data.\n",
        "*   `df_dataset.tail():` This command shows the last few rows of the dataset, providing a glimpse of the data towards the end.\n",
        "*   `df_dataset.shape:` This command returns the dimensions of the dataset, indicating the number of rows and columns present.\n",
        "*   `df_dataset.columns.values:` This command retrieves the column names of the dataset, enabling us to identify the available features.\n",
        "*   `df_dataset.info():` This command provides a concise summary of the dataset, including the data types, non-null values, and memory usage. It gives an overview of the dataset's structure\n",
        "*   `df_dataset.describe():` This command generates descriptive statistics of the dataset, such as count, mean, standard deviation, minimum, and maximum values. It offers insights into the distribution and summary statistics of numerical variables.\n",
        "\n",
        "\n",
        "\n",
        "\n",
        "\n",
        "\n",
        "\n",
        "\n"
      ],
      "metadata": {
        "id": "oEog1wv800gG"
      }
    },
    {
      "cell_type": "markdown",
      "source": [
        "## Creating functions for inspection of dataset\n",
        "\n"
      ],
      "metadata": {
        "id": "32j_gWneqm-c"
      }
    },
    {
      "cell_type": "code",
      "source": [
        "# creating a function 'first_look' for Dataset's First Look\n",
        "def first_look(x):\n",
        "  '''\n",
        "  It will take dataset as input and display\n",
        "  1. shape of Dataset\n",
        "  2. List of column name in dataset\n",
        "  '''\n",
        "  # Let's see the shape\n",
        "  print('DataFrame Shape :' , x.shape)\n",
        "\n",
        "  # list of Columns Names\n",
        "  print(list(x.columns.values))"
      ],
      "metadata": {
        "id": "1i-d4-OKq50b"
      },
      "execution_count": null,
      "outputs": []
    },
    {
      "cell_type": "code",
      "source": [
        "# creating a function 'info_D' for providing a concise summary of the dataset\n",
        "\n",
        "def info_D(x):\n",
        "  return x.info()"
      ],
      "metadata": {
        "id": "ek9VIbpzru9b"
      },
      "execution_count": null,
      "outputs": []
    },
    {
      "cell_type": "markdown",
      "source": [
        "###  \"EdStatsCountry.csv\" dataset\n",
        "\n",
        "The dataset includes a comprehensive list of 241 countries, each accompanied by various features specific to the country. These features include the country's region, income group classification, and potentially other relevant information related to the country."
      ],
      "metadata": {
        "id": "JPt6rGO6fAK6"
      }
    },
    {
      "cell_type": "code",
      "source": [
        "# calling 'first_look' function\n",
        "first_look(df_EdStatsCountry)"
      ],
      "metadata": {
        "id": "jY47MM0jrU-6"
      },
      "execution_count": null,
      "outputs": []
    },
    {
      "cell_type": "code",
      "source": [
        "# calling 'info_D' function\n",
        "info_D(df_EdStatsCountry)"
      ],
      "metadata": {
        "id": "b61u-hnbr7Mq"
      },
      "execution_count": null,
      "outputs": []
    },
    {
      "cell_type": "code",
      "source": [
        "# top 5 rows\n",
        "df_EdStatsCountry.head()"
      ],
      "metadata": {
        "id": "4UYEXXpBg8rK"
      },
      "execution_count": null,
      "outputs": []
    },
    {
      "cell_type": "code",
      "source": [
        "# bottom 5 rows\n",
        "df_EdStatsCountry.tail()"
      ],
      "metadata": {
        "id": "5DRFnucFhAMb"
      },
      "execution_count": null,
      "outputs": []
    },
    {
      "cell_type": "code",
      "source": [
        "# generates descriptive statistics of the dataset, such as count, mean, standard deviation, minimum, and maximum values.\n",
        "df_EdStatsCountry.describe()"
      ],
      "metadata": {
        "id": "wbO7HgVThDO6"
      },
      "execution_count": null,
      "outputs": []
    },
    {
      "cell_type": "markdown",
      "source": [
        "###  \"EdStatsData.csv\" data\n",
        "\n",
        "Now, let's take a closer look at the \"EdStatsData.csv\" data. This dataset includes information on each country, along with a list of 3665 unique indicators. For each indicator, the dataset provides measurement values spanning from the years 1970 to 2017. Additionally, the dataset includes projections for the years 2020 to 2100. This comprehensive dataset enables us to analyze education-related indicators across countries and observe trends and projections over a significant time period."
      ],
      "metadata": {
        "id": "XXMYcf-rh8Jj"
      }
    },
    {
      "cell_type": "code",
      "source": [
        "# calling 'first_look' function\n",
        "first_look(df_EdStatsData)"
      ],
      "metadata": {
        "id": "cBPJ-gpSiXVj"
      },
      "execution_count": null,
      "outputs": []
    },
    {
      "cell_type": "code",
      "source": [
        "# calling 'info_D' function\n",
        "info_D(df_EdStatsData)"
      ],
      "metadata": {
        "id": "JE2rHgJTjuWx"
      },
      "execution_count": null,
      "outputs": []
    },
    {
      "cell_type": "code",
      "source": [
        "# top 5 rows\n",
        "df_EdStatsData.head()"
      ],
      "metadata": {
        "id": "4PI1-x1hj1FK"
      },
      "execution_count": null,
      "outputs": []
    },
    {
      "cell_type": "code",
      "source": [
        "# bottom 5 rows\n",
        "df_EdStatsData.tail()"
      ],
      "metadata": {
        "id": "SqKeEU2pj53x"
      },
      "execution_count": null,
      "outputs": []
    },
    {
      "cell_type": "code",
      "source": [
        "# generates descriptive statistics of the dataset, such as count, mean, standard deviation, minimum, and maximum values.\n",
        "df_EdStatsData.describe()"
      ],
      "metadata": {
        "id": "92vEpzKPkKai"
      },
      "execution_count": null,
      "outputs": []
    },
    {
      "cell_type": "markdown",
      "source": [
        "### \"EdStatsSeries.csv\" data\n",
        "\n",
        "\n",
        "The \"EdStatsSeries.csv\" dataset comprises a list of all indicators along with their corresponding definitions. This dataset provides a comprehensive inventory of indicators used in the education statistics domain, offering clear explanations and definitions for each indicator. It serves as a valuable resource for understanding and interpreting the various measurements and metrics related to education."
      ],
      "metadata": {
        "id": "srQMOdkmmOtp"
      }
    },
    {
      "cell_type": "code",
      "source": [
        "# calling 'first_look' function\n",
        "first_look(df_EdStatsSeries)"
      ],
      "metadata": {
        "id": "RWoNhq9RmnLi"
      },
      "execution_count": null,
      "outputs": []
    },
    {
      "cell_type": "code",
      "source": [
        "# calling 'info_D' function\n",
        "info_D(df_EdStatsSeries)"
      ],
      "metadata": {
        "id": "ZHIB2shGm0QF"
      },
      "execution_count": null,
      "outputs": []
    },
    {
      "cell_type": "code",
      "source": [
        "# top 5 rows\n",
        "df_EdStatsSeries.head()"
      ],
      "metadata": {
        "id": "hD3ygPZtm8-S"
      },
      "execution_count": null,
      "outputs": []
    },
    {
      "cell_type": "code",
      "source": [
        "# bottom 5 rows\n",
        "df_EdStatsSeries.tail()"
      ],
      "metadata": {
        "id": "dlPgiRGGnBqq"
      },
      "execution_count": null,
      "outputs": []
    },
    {
      "cell_type": "markdown",
      "source": [
        "## \"EdStatsFootNote.csv\" data\n",
        "\n",
        "Now, let's explore the \"EdStatsFootNote.csv\" data. This dataset contains estimations and uncertainty bounds for each year, providing insights into the accuracy and variability of the data. It's important to note that some years may have missing data, indicating potential gaps or unavailable information for those specific time periods. By examining this dataset, we can gain a better understanding of the estimation process and the associated uncertainty in the data, allowing for a more nuanced interpretation of the education statistics presented.\n",
        "\n",
        "\n",
        "\n",
        "\n",
        "\n",
        "\n"
      ],
      "metadata": {
        "id": "A1lT6_BAQaeO"
      }
    },
    {
      "cell_type": "code",
      "source": [
        "# calling 'first_look' function\n",
        "first_look(df_EdStatsFootNote)"
      ],
      "metadata": {
        "id": "9GhOCV1FQZ10"
      },
      "execution_count": null,
      "outputs": []
    },
    {
      "cell_type": "code",
      "source": [
        "# calling 'info_D' function\n",
        "info_D(df_EdStatsFootNote)"
      ],
      "metadata": {
        "id": "-DydupCEpBL5"
      },
      "execution_count": null,
      "outputs": []
    },
    {
      "cell_type": "code",
      "source": [
        "# top 5 rows\n",
        "df_EdStatsFootNote.head()"
      ],
      "metadata": {
        "id": "gjeQoLNQpPgT"
      },
      "execution_count": null,
      "outputs": []
    },
    {
      "cell_type": "code",
      "source": [
        "# bottom 5 rows\n",
        "df_EdStatsFootNote.tail()"
      ],
      "metadata": {
        "id": "CaHrGN7opXGa"
      },
      "execution_count": null,
      "outputs": []
    },
    {
      "cell_type": "markdown",
      "source": [
        "### \"EdStatsCountry-Series\" data\n",
        "\n",
        "Let's take a closer look at the \"EdStatsCountry-Series\" data, which provides information on indicators and data sources specific to certain countries. This dataset offers insights into the various indicators measured and the corresponding data sources utilized for these selected countries. By examining this dataset, we can gain a deeper understanding of the specific indicators tracked and the sources from which the data was obtained, allowing us to explore the educational aspects of these countries in greater detail."
      ],
      "metadata": {
        "id": "xvKtivPHqI48"
      }
    },
    {
      "cell_type": "code",
      "source": [
        "# calling 'first_look' function\n",
        "first_look(df_EdStatsCountry_Series)"
      ],
      "metadata": {
        "id": "sxU8fI4AqOPD"
      },
      "execution_count": null,
      "outputs": []
    },
    {
      "cell_type": "code",
      "source": [
        "# calling 'info_D' function\n",
        "info_D(df_EdStatsCountry_Series)"
      ],
      "metadata": {
        "id": "Fb2TOlepvPrq"
      },
      "execution_count": null,
      "outputs": []
    },
    {
      "cell_type": "markdown",
      "source": [
        "After reviewing all the available data, we have made the decision to primarily focus on two databases: df_EdStatsCountry and df_EdStatsData. These databases will be the main sources of information for our analysis, as they contain the most relevant data for our objectives. By focusing our attention on these databases, we can ensure a more targeted and efficient analysis of the education-related information we need."
      ],
      "metadata": {
        "id": "fld9i_fm0SFz"
      }
    },
    {
      "cell_type": "markdown",
      "source": [
        "## 3. ***Data Wrangling***"
      ],
      "metadata": {
        "id": "dauF4eBmngu3"
      }
    },
    {
      "cell_type": "markdown",
      "source": [
        "\n",
        "Data wrangling is a crucial step in the World Bank Global Education Analysis (EDA) project, as it involves the process of cleaning, transforming, and preparing the raw data for analysis. The data wrangling phase encompasses several key activities that ensure the data is reliable, consistent, and suitable for further analysis. These activities include:\n",
        "\n",
        "Data Cleaning: This involves identifying and handling missing data, outliers, and inconsistencies within the dataset. Missing values may be imputed or removed, outliers may be addressed through appropriate methods, and inconsistencies are resolved to ensure data quality.\n",
        "\n",
        "Data Integration: The EDA project often deals with multiple datasets from various sources. Data integration involves merging or joining these datasets based on common variables or keys to create a comprehensive and unified dataset for analysis.\n",
        "\n",
        "Data Transformation: Data may require transformation to meet the project's specific needs. This can include converting data types, scaling variables, aggregating data at different levels (e.g., country-level, regional level), and creating new derived variables to facilitate analysis.\n",
        "\n",
        "Data Reshaping: Sometimes, the data may need to be reshaped to fit a particular analytical model or visualization. This can involve pivoting data from a wide |to long format or vice versa, restructuring hierarchical data, or splitting and merging variables as needed.\n",
        "\n",
        "Data Validation: Data validation ensures the accuracy and consistency of the transformed data. It involves checking data against predefined business rules, conducting quality checks, and verifying the integrity of the dataset.\n",
        "\n",
        "Data Documentation: Throughout the data wrangling process, it is essential to document the steps taken, decisions made, and any data transformations applied. This documentation helps maintain transparency, reproducibility, and enables others to understand and validate the data wrangling process.\n",
        "\n",
        "By performing these data wrangling tasks, the World Bank Global Education Analysis (EDA) project can ensure that the data is prepared and optimized for subsequent analysis, enabling informed decision-making and valuable insights to be derived from the data."
      ],
      "metadata": {
        "id": "2nYfXfcU04e6"
      }
    },
    {
      "cell_type": "markdown",
      "source": [
        "### Now, let's begin exploring and manipulating the data to extract insights. To effectively navigate the dataset, we will employ appropriate techniques for searching and retrieving the required files. This will ensure a smooth workflow and enable us to perform data analysis tasks efficiently."
      ],
      "metadata": {
        "id": "QOJzrnB61_It"
      }
    },
    {
      "cell_type": "markdown",
      "source": [
        "### Data Wrangling Code\n",
        "\n",
        "Now, let's begin exploring and manipulating the data to extract insights. To effectively navigate the dataset, we will employ appropriate techniques for searching and retrieving the required files. This will ensure a smooth workflow and enable us to perform data analysis tasks efficiently."
      ],
      "metadata": {
        "id": "bKJF3rekwFvQ"
      }
    },
    {
      "cell_type": "code",
      "source": [
        "# Displaying the null values present in each features of \"EdStatsCountry dataset\"\n",
        "\n",
        "a = df_EdStatsCountry.isnull().sum().sort_values(ascending=False)\n",
        "plt.rcParams['figure.figsize'] = (12, 6)  # Adjust the figure size as desired\n",
        "plt.bar(a.index, a.values, color = 'purple')  # Use barplot to create the chart\n",
        "plt.title('Null Values in EdStatsCountry Dataset')  # Add a descriptive title\n",
        "plt.xlabel('Columns')  # Add a label for the x-axis\n",
        "plt.ylabel('Count')  # Add a label for the y-axis\n",
        "plt.xticks(rotation=90)  # Rotate the x-axis labels for better readability\n",
        "plt.show()  # Display the modified chart"
      ],
      "metadata": {
        "id": "2lk_ROwV03_S"
      },
      "execution_count": null,
      "outputs": []
    },
    {
      "cell_type": "markdown",
      "source": [
        "#### `**Observation**`\n",
        " it can be noted that several columns in the dataset have a significant number of empty values. These columns include 'Special Notes', 'National accounts reference year', 'Lending category', 'Other Groups', 'Alternative conversion Factor', 'PPP survey year', 'External Depth Reporting Status', 'Latest household survey', 'Vital registration complete', and 'Latest industrial data'. These columns appear to have a substantial amount of missing or incomplete information, which may impact their reliability or usability for analysis."
      ],
      "metadata": {
        "id": "qbOcSrrt3vYg"
      }
    },
    {
      "cell_type": "code",
      "source": [
        "# Displaying the null values present in each features of \"EdStatsData dataset\"\n",
        "\n",
        "a = df_EdStatsData.isnull().sum().sort_values(ascending=False)\n",
        "plt.rcParams['figure.figsize'] = (12, 9)  # Adjust the figure size as desired\n",
        "plt.bar(a.index, a.values, color='red')  # Use barplot to create the chart and set the color to light blue\n",
        "plt.title('Null Values in EdStatsData Dataset')  # Add a descriptive title\n",
        "plt.xlabel('Columns')  # Add a label for the x-axis\n",
        "plt.ylabel('Count')  # Add a label for the y-axis\n",
        "plt.xticks(rotation=90)  # Rotate the x-axis labels for better readability\n",
        "plt.show()  # Display the modified chart"
      ],
      "metadata": {
        "id": "DPZxC35H4CZg"
      },
      "execution_count": null,
      "outputs": []
    },
    {
      "cell_type": "markdown",
      "source": [
        "### `**Observation**`\n",
        "\n",
        "A considerable number of year columns in the dataset contain null values. These year columns are crucial for analyzing trends over time. To address this issue, we can utilize the forward fill (ffill()) and backward fill (bfill()) methods to extrapolate or estimate missing values based on neighboring data points. By employing these methods, we can fill in the gaps in the year columns and ensure a more comprehensive analysis of the temporal trends in the data."
      ],
      "metadata": {
        "id": "RAXppOw16SUj"
      }
    },
    {
      "cell_type": "markdown",
      "source": [
        "### What all manipulations have you done and insights you found?"
      ],
      "metadata": {
        "id": "MSa1f5Uengrz"
      }
    },
    {
      "cell_type": "markdown",
      "source": [
        "It has been observed that the \"Country Name\" column in all the files contains not only individual country names but also groups such as 'Dominican Republic', 'East Asia & Pacific', 'East Asia & Pacific (all income levels)', 'Europe & Central Asia', and 'Europe & Central Asia (all income levels)'.\n",
        "\n",
        "To ensure data cleanliness and consistency, a dictionary is created using a reliable source (https://pytutorial.com/python-country-list) which contains currently existing countries. Based on this dictionary, we will filter the dataframes to include only individual country names and drop any other entries.\n",
        "\n",
        "By performing this data cleaning step, the resulting dataframe will exclusively consist of country names. Subsequently, we can proceed with addressing the null cells in the dataset."
      ],
      "metadata": {
        "id": "LbyXE7I1olp8"
      }
    },
    {
      "cell_type": "code",
      "source": [
        "# creating a dictionary called \"country\" that contains key-value pairs. The keys are two-letter country codes, and the values are the corresponding country names.\n",
        "\n",
        "country={\"AF\":\"Afghanistan\",\"AX\":\"Aland Islands\",\"AL\":\"Albania\",\"DZ\":\"Algeria\",\"AS\":\"American Samoa\",\"AD\":\"Andorra\",\"AO\":\"Angola\",\"AI\":\"Anguilla\",\"AQ\":\"Antarctica\",\"AG\":\"Antigua and Barbuda\",\"AR\":\"Argentina\",\n",
        "         \"AM\":\"Armenia\",\"AW\":\"Aruba\",\"AU\":\"Australia\",\"AT\":\"Austria\",\"AZ\":\"Azerbaijan\",\"BS\":\"Bahamas\",\"BH\":\"Bahrain\",\"BD\":\"Bangladesh\",\"BB\":\"Barbados\",\"BY\":\"Belarus\",\"BE\":\"Belgium\",\"BZ\":\"Belize\",\"BJ\":\"Benin\",\n",
        "         \"BM\":\"Bermuda\",\"BT\":\"Bhutan\",\"BO\":\"Bolivia\",\"BQ\":\"Bonaire, Sint Eustatius and Saba\",\"BA\":\"Bosnia and Herzegovina\",\"BW\":\"Botswana\",\"BV\":\"Bouvet Island\",\"BR\":\"Brazil\",\n",
        "         \"IO\":\"British Indian Ocean Territory\",\"BN\":\"Brunei Darussalam\",\"BG\":\"Bulgaria\",\"BF\":\"Burkina Faso\",\"BI\":\"Burundi\",\"KH\":\"Cambodia\",\"CM\":\"Cameroon\",\"CA\":\"Canada\",\"CV\":\"Cape Verde\",\"KY\":\"Cayman Islands\",\n",
        "         \"CF\":\"Central African Republic\",\"TD\":\"Chad\",\"CL\":\"Chile\",\"CN\":\"China\",\"CX\":\"Christmas Island\",\"CC\":\"Cocos Islands\",\"CO\":\"Colombia\",\"KM\":\"Comoros\",\"CG\":\"Congo\",\"CD\":\"Congo\",\"CK\":\"Cook Islands\",\n",
        "         \"CR\":\"Costa Rica\",\"CI\":\"Côte d'Ivoire\",\"HR\":\"Croatia\",\"CU\":\"Cuba\",\"CW\":\"Curaçao\",\"CY\":\"Cyprus\",\"CZ\":\"Czech Republic\",\"DK\":\"Denmark\",\"DJ\":\"Djibouti\",\"DM\":\"Dominica\",\"DO\":\"Dominican Republic\",\n",
        "         \"EC\":\"Ecuador\",\"EG\":\"Egypt\",\"SV\":\"El Salvador\",\"GQ\":\"Equatorial Guinea\",\"ER\":\"Eritrea\",\"EE\":\"Estonia\",\"ET\":\"Ethiopia\",\"FK\":\"Falkland Islands\",\"FO\":\"Faroe Islands\",\"FJ\":\"Fiji\",\"FI\":\"Finland\",\n",
        "         \"FR\":\"France\",\"GF\":\"French Guiana\",\"PF\":\"French Polynesia\",\"TF\":\"French Southern Territories\",\"GA\":\"Gabon\",\"GM\":\"Gambia\",\"GE\":\"Georgia\",\"DE\":\"Germany\",\"GH\":\"Ghana\",\"GI\":\"Gibraltar\",\"GR\":\"Greece\",\n",
        "         \"GL\":\"Greenland\",\"GD\":\"Grenada\",\"GP\":\"Guadeloupe\",\"GU\":\"Guam\",\"GT\":\"Guatemala\",\"GG\":\"Guernsey\",\"GN\":\"Guinea\",\"GW\":\"Guinea-Bissau\",\"GY\":\"Guyana\",\"HT\":\"Haiti\",\"HM\":\"Heard Island and McDonald Islands\",\n",
        "         \"VA\":\"Holy See\",\"HN\":\"Honduras\",\"HK\":\"Hong Kong\",\"HU\":\"Hungary\",\"IS\":\"Iceland\",\"IN\":\"India\",\"ID\":\"Indonesia\",\"IR\":\"Iran, Islamic Republic of\",\"IQ\":\"Iraq\",\"IE\":\"Ireland\",\n",
        "         \"IM\":\"Isle of Man\",\"IL\":\"Israel\",\"IT\":\"Italy\",\"JM\":\"Jamaica\",\"JP\":\"Japan\",\"JE\":\"Jersey\",\"JO\":\"Jordan\",\"KZ\":\"Kazakhstan\",\"KE\":\"Kenya\",\"KI\":\"Kiribati\",\"KP\":\"North Korea\",\"KR\":\"South Korea\",\n",
        "         \"KW\":\"Kuwait\",\"KG\":\"Kyrgyzstan\",\"LA\":\"Lao People's Democratic Republic\",\"LV\":\"Latvia\",\"LB\":\"Lebanon\",\"LS\":\"Lesotho\",\"LR\":\"Liberia\",\"LY\":\"Libya\",\"LI\":\"Liechtenstein\",\"LT\":\"Lithuania\",\n",
        "         \"LU\":\"Luxembourg\",\"MO\":\"Macao\",\"MK\":\"Macedonia\",\"MG\":\"Madagascar\",\"MW\":\"Malawi\",\"MY\":\"Malaysia\",\"MV\":\"Maldives\",\"ML\":\"Mali\",\"MT\":\"Malta\",\"MH\":\"Marshall Islands\",\"MQ\":\"Martinique\",\n",
        "         \"MR\":\"Mauritania\",\"MU\":\"Mauritius\",\"YT\":\"Mayotte\",\"MX\":\"Mexico\",\"FM\":\"Micronesia\",\"MD\":\"Moldova\",\"MC\":\"Monaco\",\"MN\":\"Mongolia\",\"ME\":\"Montenegro\",\"MS\":\"Montserrat\",\n",
        "         \"MA\":\"Morocco\",\"MZ\":\"Mozambique\",\"MM\":\"Myanmar\",\"NA\":\"Namibia\",\"NR\":\"Nauru\",\"NP\":\"Nepal\",\"NL\":\"Netherlands\",\"NC\":\"New Caledonia\",\"NZ\":\"New Zealand\",\"NI\":\"Nicaragua\",\"NE\":\"Niger\",\"NG\":\"Nigeria\",\"NU\":\"Niue\",\n",
        "         \"NF\":\"Norfolk Island\",\"MP\":\"Northern Mariana Islands\",\"NO\":\"Norway\",\"OM\":\"Oman\",\"PK\":\"Pakistan\",\"PW\":\"Palau\",\"PS\":\"Palestinian Territory, Occupied\",\"PA\":\"Panama\",\"PG\":\"Papua New Guinea\",\"PY\":\"Paraguay\",\n",
        "         \"PE\":\"Peru\",\"PH\":\"Philippines\",\"PN\":\"Pitcairn\",\"PL\":\"Poland\",\"PT\":\"Portugal\",\"PR\":\"Puerto Rico\",\"QA\":\"Qatar\",\"RE\":\"Reunion\",\"RO\":\"Romania\",\"RU\":\"Russian Federation\",\"RW\":\"Rwanda\",\"BL\":\"Saint Barthélemy\",\n",
        "         \"SH\":\"Saint Helena, Ascension and Tristan da Cunha\",\"KN\":\"Saint Kitts and Nevis\",\"LC\":\"Saint Lucia\",\"MF\":\"Saint Martin (French part)\",\"PM\":\"Saint Pierre and Miquelon\",\"VC\":\"Saint Vincent and the Grenadines\",\n",
        "         \"WS\":\"Samoa\",\"SM\":\"San Marino\",\"ST\":\"Sao Tome and Principe\",\"SA\":\"Saudi Arabia\",\"SN\":\"Senegal\",\"RS\":\"Serbia\",\"SC\":\"Seychelles\",\"SL\":\"Sierra Leone\",\"SG\":\"Singapore\",\"SX\":\"Sint Maarten (Dutch part)\",\"SK\":\"Slovakia\",\n",
        "         \"SI\":\"Slovenia\",\"SB\":\"Solomon Islands\",\"SO\":\"Somalia\",\"ZA\":\"South Africa\",\"GS\":\"South Georgia and the South Sandwich Islands\",\"ES\":\"Spain\",\"LK\":\"Sri Lanka\",\"SD\":\"Sudan\",\"SR\":\"Suriname\",\"SS\":\"South Sudan\",\n",
        "         \"SJ\":\"Svalbard and Jan Mayen\",\"SZ\":\"Swaziland\",\"SE\":\"Sweden\",\"CH\":\"Switzerland\",\"SY\":\"Syrian Arab Republic\",\"TW\":\"Taiwan\",\"TZ\":\"Tanzania\",\"TH\":\"Thailand\",\"TL\":\"Timor-Leste\",\n",
        "         \"TG\":\"Togo\",\"TK\":\"Tokelau\",\"TO\":\"Tonga\",\"TT\":\"Trinidad and Tobago\",\"TN\":\"Tunisia\",\"TR\":\"Turkey\",\"TM\":\"Turkmenistan\",\"TC\":\"Turks and Caicos Islands\",\"TV\":\"Tuvalu\",\"UG\":\"Uganda\",\"UA\":\"Ukraine\",\"AE\":\"United Arab Emirates\",\n",
        "         \"GB\":\"United Kingdom\",\"US\":\"United States\",\"UM\":\"United States Minor Outlying Islands\",\"UY\":\"Uruguay\",\"UZ\":\"Uzbekistan\",\"VU\":\"Vanuatu\",\"VE\":\"Venezuela\",\"VN\":\"Viet Nam\",\n",
        "         \"VG\":\"Virgin Islands, British\",\"VI\":\"Virgin Islands, U.S.\",\"WF\":\"Wallis and Futuna\",\"YE\":\"Yemen\",\"ZM\":\"Zambia\",\"ZW\":\"Zimbabwe\"\n",
        "         }"
      ],
      "metadata": {
        "id": "mGAFjjbK7RAE"
      },
      "execution_count": null,
      "outputs": []
    },
    {
      "cell_type": "code",
      "source": [
        "# Creating a new list called \"country_list\" by extracting all the values from the \"country\" dictionary.\n",
        "\n",
        "country_list=list(country.values())"
      ],
      "metadata": {
        "id": "6tuMjO1k7e1U"
      },
      "execution_count": null,
      "outputs": []
    },
    {
      "cell_type": "code",
      "source": [
        "# Filtering DataFrame called \"df_EdStatsCountry\" based on the values in the 'Table Name' column. It selects only the rows where the 'Table Name' value is present in the \"country_list\" created earlier.\n",
        "\n",
        "df_EdStatsCountry=df_EdStatsCountry[df_EdStatsCountry['Table Name'].isin(country_list)]"
      ],
      "metadata": {
        "id": "tTwEpS1Y7gR0"
      },
      "execution_count": null,
      "outputs": []
    },
    {
      "cell_type": "code",
      "source": [
        "# Filtering DataFrame called \"df_EdStatsData\" based on the values in the 'Country Name' column. It selects only the rows where the 'Country Name' value is present in the \"country_list\" created earlier.\n",
        "\n",
        "df_EdStatsData=df_EdStatsData[df_EdStatsData['Country Name'].isin(country_list)]"
      ],
      "metadata": {
        "id": "5FalwFxy7l2I"
      },
      "execution_count": null,
      "outputs": []
    },
    {
      "cell_type": "markdown",
      "source": [
        "To preserve the integrity of the original DataFrame, \"df_EdStatsData\", a separate copy is created and named \"data_copy\". This copy allows us to perform operations and modifications without affecting the original dataset. By using \"data_copy\", we can make changes, such as filling missing values, without contaminating the original \"df_EdStatsData\" file.\n",
        "\n"
      ],
      "metadata": {
        "id": "TbY3wPZR_Wtr"
      }
    },
    {
      "cell_type": "code",
      "source": [
        "data_copy=df_EdStatsData.copy()"
      ],
      "metadata": {
        "id": "qTcUpEf5_ZPx"
      },
      "execution_count": null,
      "outputs": []
    },
    {
      "cell_type": "markdown",
      "source": [
        "In order to conduct a comprehensive analysis of education trends, we have opted to utilize data spanning the past two decades, specifically from the year 2000 to 2030. This timeframe has been selected to streamline the study, as data availability prior to 2001 and beyond 2015 is scarce, with a significant portion being incomplete or non-existent. Nevertheless, by including data up until 2030, we aim to derive valuable insights and facilitate analysis pertaining to the immediate future"
      ],
      "metadata": {
        "id": "WSJjfiER-Nb0"
      }
    },
    {
      "cell_type": "code",
      "source": [
        "# performing operation on a DataFrame called \"data_copy\" for filling missing values in specific columns.\n",
        "\n",
        "colm=['1970', '1971', '1972', '1973', '1974', '1975', '1976', '1977', '1978',\n",
        "       '1979', '1980', '1981', '1982', '1983', '1984', '1985', '1986', '1987',\n",
        "       '1988', '1989', '1990', '1991', '1992', '1993', '1994', '1995', '1996',\n",
        "       '1997', '1998', '1999', '2000', '2001', '2002', '2003', '2004', '2005',\n",
        "       '2006', '2007', '2008', '2009', '2010', '2011', '2012', '2013', '2014',\n",
        "       '2015', '2016', '2017', '2020', '2025', '2030', '2035', '2040', '2045',\n",
        "       '2050', '2055', '2060', '2065', '2070', '2075', '2080', '2085', '2090',\n",
        "       '2095', '2100']\n",
        "\n",
        "'''This line of code utilizes the \"bfill()\" method on the subset of columns specified in \"colm\" to backward fill missing values along each row,\n",
        "   effectively copying the value from the next available non-null cell in the same row.'''\n",
        "data_copy.loc[:,colm]=data_copy.loc[:,colm].bfill(axis='columns')\n",
        "\n",
        "'''This line of code uses the \"ffill()\" method to forward fill any remaining missing values in the specified columns.\n",
        "   This operation fills the gaps with the preceding non-null value in each row.'''\n",
        "data_copy.loc[:,colm]=data_copy.loc[:,colm].ffill(axis='columns')"
      ],
      "metadata": {
        "id": "54VqvdSm-utn"
      },
      "execution_count": null,
      "outputs": []
    },
    {
      "cell_type": "markdown",
      "source": [
        "\n",
        "\n",
        "---\n",
        "\n",
        "\n",
        "\n",
        "---\n",
        "\n"
      ],
      "metadata": {
        "id": "tkMunPdFFiKZ"
      }
    },
    {
      "cell_type": "markdown",
      "source": [
        "## ***4. Data Vizualization, Storytelling & Experimenting with charts : Understand the relationships between variables***"
      ],
      "metadata": {
        "id": "GF8Ens_Soomf"
      }
    },
    {
      "cell_type": "markdown",
      "source": [
        "During this segment of our Exploratory Data Analysis (EDA), we will examine the dataset. Due to the complexity of the dataset, we have divided our analysis process into three sections. Each section encompasses a set of tasks that need to be accomplished. By dividing the analysis into sections, we can effectively manage and tackle the complexity of the dataset, ensuring a systematic and comprehensive examination of the data."
      ],
      "metadata": {
        "id": "1TVQb7TQCjiB"
      }
    },
    {
      "cell_type": "markdown",
      "source": [
        "### Section A\n",
        "\n",
        "In this section we simply Just try to set our hand in data with some interesting point as like try to found No. of country in Region and Various Income Group. we will try to see Population growth % of various countries catogriesed by Income Group. and also try to do visualize this together with help of various chart\n"
      ],
      "metadata": {
        "id": "kVQvarVdEkrU"
      }
    },
    {
      "cell_type": "markdown",
      "source": [
        "`Task 1`\n",
        "\n",
        " our aim is to determine the count of countries based on their respective 'Region' category. By analyzing the dataset, we will identify the number of countries belonging to each specific region. This task will provide us with an understanding of the distribution of countries across different regions and contribute to our overall analysis."
      ],
      "metadata": {
        "id": "P2ZiAB4NFDui"
      }
    },
    {
      "cell_type": "code",
      "source": [
        "# counting of countries in each unique region of the 'df_EdStatsCountry' DataFrame\n",
        "\n",
        "df_EdStatsCountry['Region'].value_counts()"
      ],
      "metadata": {
        "id": "fVlWf9tOFVRj"
      },
      "execution_count": null,
      "outputs": []
    },
    {
      "cell_type": "code",
      "source": [
        "# retrieving the unique regions from a dataframe 'df_EdStatsCountry' and stores them in the region_name list.\n",
        "\n",
        "region_name = list(df_EdStatsCountry['Region'].value_counts().keys())\n",
        "region_name"
      ],
      "metadata": {
        "id": "45Ifj8gtIKhQ"
      },
      "execution_count": null,
      "outputs": []
    },
    {
      "cell_type": "code",
      "source": [
        "# counting the occurrences of each region in the 'Region' column of the 'df_EdStatsCountry' DataFrame and stores the counts in a list named 'no_country'.\n",
        "\n",
        "no_coutry = list(df_EdStatsCountry['Region'].value_counts())\n",
        "no_coutry"
      ],
      "metadata": {
        "id": "bLbQuGl2GNVS"
      },
      "execution_count": null,
      "outputs": []
    },
    {
      "cell_type": "code",
      "source": [
        "# creating a horizontal bar chart to visualize the number of countries per region\n",
        "\n",
        "plt.figure(figsize=(10, 6))\n",
        "plt.barh(region_name, no_coutry, color=[\"blue\", \"green\", \"red\", \"pink\", \"orange\", \"grey\", \"brown\"])\n",
        "\n",
        "plt.xlabel(\"Number of Countries\", fontsize=12, fontweight='bold')\n",
        "plt.ylabel(\"Region Names\", fontsize=12, fontweight='bold')\n",
        "plt.title(\"Number of Countries per Region\", fontsize=14, fontweight='bold')\n",
        "\n",
        "# Add data labels to the bars\n",
        "for index, value in enumerate(no_coutry):\n",
        "    plt.text(value + 0.5, index, str(value), fontsize=10)\n",
        "\n",
        "# Customize the appearance\n",
        "plt.grid(axis=\"x\", linestyle=\"-\", linewidth=0.5, alpha=0.7)\n",
        "plt.xticks(fontsize=10)\n",
        "plt.yticks(fontsize=10)\n",
        "plt.gca().spines['top'].set_visible(False)\n",
        "plt.gca().spines['right'].set_visible(False)\n",
        "plt.gca().spines['bottom'].set_linewidth(0.5)\n",
        "plt.gca().spines['left'].set_linewidth(0.5)\n",
        "\n",
        "plt.show()"
      ],
      "metadata": {
        "id": "9sd7ujmzH92x"
      },
      "execution_count": null,
      "outputs": []
    },
    {
      "cell_type": "markdown",
      "source": [
        "### **`observation:-`**\n",
        "\n",
        "The data reveals the distribution of countries among various regions, which is visually represented in a horizontal bar chart. By examining the chart, we can determine the number of countries associated with each specific region. The x-axis represents the count of countries, while the y-axis displays the names of the regions. Notably, the analysis highlights that Europe and Central Asia have the highest number of countries in the dataset, with a count of 57. Sub-Saharan Africa follows closely behind with 48 countries, while North America has the lowest count, with only 3 countries. This information provides valuable insights into the regional distribution of countries and allows for a quick comparison of the number of countries across different regions."
      ],
      "metadata": {
        "id": "7RTYFuk5kmCr"
      }
    },
    {
      "cell_type": "markdown",
      "source": [
        "\n",
        "\n",
        "---\n",
        "\n"
      ],
      "metadata": {
        "id": "0xvsPKJVFcFP"
      }
    },
    {
      "cell_type": "markdown",
      "source": [
        " **`Task2:`** Aggregating countries into income groups"
      ],
      "metadata": {
        "id": "FHts7ebDJ4C8"
      }
    },
    {
      "cell_type": "code",
      "source": [
        "# counting of countries in each income group of the 'df_EdStatsCountry' DataFrame\n",
        "\n",
        "df_EdStatsCountry['Income Group'].value_counts()"
      ],
      "metadata": {
        "id": "obPRVGEqiu6o"
      },
      "execution_count": null,
      "outputs": []
    },
    {
      "cell_type": "code",
      "source": [
        "# retrieving the countries in each income group from a dataframe 'df_EdStatsCountry' and stores them in the income group list.\n",
        "\n",
        "Income_Group = list(df_EdStatsCountry['Income Group'].value_counts().keys())\n",
        "Income_Group"
      ],
      "metadata": {
        "id": "ZbKFmNKli80v"
      },
      "execution_count": null,
      "outputs": []
    },
    {
      "cell_type": "code",
      "source": [
        "# counting the occurrences of each income group in the 'Income Group' column of the 'df_EdStatsCountry' DataFrame and stores the counts in a list named 'Income_Group_country'.\n",
        "\n",
        "Income_Group_country = list(df_EdStatsCountry['Income Group'].value_counts())\n",
        "Income_Group_country"
      ],
      "metadata": {
        "id": "UmwzMQhUjEg_"
      },
      "execution_count": null,
      "outputs": []
    },
    {
      "cell_type": "code",
      "source": [
        "# creating a horizontal bar chart to visualize the number of countries per Income Group\n",
        "\n",
        "plt.figure(figsize=(10, 5))\n",
        "plt.barh(Income_Group, Income_Group_country, color=[\"red\", \"blue\", \"pink\", \"orange\", \"silver\"])\n",
        "\n",
        "plt.xlabel(\"Number of Countries\")\n",
        "plt.ylabel(\"Income Groups\")\n",
        "plt.title(\"Number of Countries per Income Group\")\n",
        "\n",
        "# Add data labels to the bars\n",
        "for index, value in enumerate(Income_Group_country):\n",
        "    plt.text(value + 0.5, index, str(value))\n",
        "\n",
        "# Customize the appearance\n",
        "plt.grid(axis=\"x\", linestyle=\"-\", linewidth=0.5, alpha=0.7)\n",
        "plt.xticks(fontsize=10)\n",
        "plt.yticks(fontsize=10)\n",
        "plt.gca().spines['top'].set_visible(False)\n",
        "plt.gca().spines['right'].set_visible(False)\n",
        "plt.gca().spines['bottom'].set_linewidth(0.5)\n",
        "plt.gca().spines['left'].set_linewidth(0.5)\n",
        "\n",
        "plt.show()"
      ],
      "metadata": {
        "id": "lMvJLip_jL7w"
      },
      "execution_count": null,
      "outputs": []
    },
    {
      "cell_type": "markdown",
      "source": [
        "#### **`Observation:-`**\n",
        "\n",
        "The data reveals the distribution of countries among various Income Group, which is visually represented in a horizontal bar chart. By examining the chart, we can determine the number of countries associated with each specific Income Group. The x-axis represents the count of countries, while the y-axis displays the names of the Income Group. Notably, the analysis highlights that Upper Middle Income Group have the highest number of countries in the dataset, with a count of 50. Lower Middle Income Group follows behind with 39 countries, while High Income Group has the lowest count, with 29 countries. This information provides valuable insights into the Income Group distribution of countries and allows for a quick comparison of the number of countries across different Income Group."
      ],
      "metadata": {
        "id": "PDtew5bCkbeo"
      }
    },
    {
      "cell_type": "markdown",
      "source": [
        "\n",
        "\n",
        "---\n",
        "\n"
      ],
      "metadata": {
        "id": "x75hLUh9FYO0"
      }
    },
    {
      "cell_type": "markdown",
      "source": [
        "#### `TASK3`: Analyse the Population growth % of various countries catogriesed by Income Group"
      ],
      "metadata": {
        "id": "6_tKVUYp03-d"
      }
    },
    {
      "cell_type": "code",
      "source": [
        "# Extracting a subset of columns from the World Bank Global Education dataset\n",
        "df_StatsData = df_EdStatsData.loc[:,['Country Name', 'Country Code', 'Indicator Name', 'Indicator Code','2005','2006', '2007', '2008', '2009', '2010', '2011', '2012', '2013', '2014']]"
      ],
      "metadata": {
        "id": "sTlFRbSY07Ml"
      },
      "execution_count": null,
      "outputs": []
    },
    {
      "cell_type": "code",
      "source": [
        "# Displaying information about the DataFrame 'df_StatsData'\n",
        "df_StatsData.info()"
      ],
      "metadata": {
        "id": "pydFRTXf1dpV"
      },
      "execution_count": null,
      "outputs": []
    },
    {
      "cell_type": "code",
      "source": [
        "# Merging two DataFrames based on a common column\n",
        "merged_statseries_statdata =pd.merge(df_EdStatsSeries,df_StatsData, on='Indicator Name',how='inner')\n",
        "\n",
        "# Displaying information about the merged DataFrame\n",
        "merged_statseries_statdata.info()"
      ],
      "metadata": {
        "id": "0yf9-Gnl2IFC"
      },
      "execution_count": null,
      "outputs": []
    },
    {
      "cell_type": "code",
      "source": [
        "# merging the previously merged dataframe and df_StatsCountry with respect to Country code\n",
        "merged_series_Data_country=pd.merge(merged_statseries_statdata,df_EdStatsCountry, on ='Country Code', how= 'inner')\n",
        "\n",
        "# Displaying information about the merged DataFrame\n",
        "merged_series_Data_country.info()"
      ],
      "metadata": {
        "id": "_cuRgNPi2p0E"
      },
      "execution_count": null,
      "outputs": []
    },
    {
      "cell_type": "markdown",
      "source": [
        "We are segmenting the dataset based on specific income groups to facilitate our analysis. This allows us to focus on the data relevant to each income group and gain insights specific to their characteristics and trends."
      ],
      "metadata": {
        "id": "DHqo-YcY22eu"
      }
    },
    {
      "cell_type": "markdown",
      "source": [
        "### Lower Income Group"
      ],
      "metadata": {
        "id": "clnFmdPT3Yz-"
      }
    },
    {
      "cell_type": "code",
      "source": [
        "# Creating Data frame for lower income group\n",
        "df_lowerincome=merged_series_Data_country.loc[merged_series_Data_country['Income Group']=='Low income',:]"
      ],
      "metadata": {
        "id": "K_s10fTZ31hN"
      },
      "execution_count": null,
      "outputs": []
    },
    {
      "cell_type": "code",
      "source": [
        "# finding unique country names\n",
        "df_lowerincome['Country Name'].unique()"
      ],
      "metadata": {
        "id": "oQkULri14sqL"
      },
      "execution_count": null,
      "outputs": []
    },
    {
      "cell_type": "code",
      "source": [
        "# creating a list of some country names which we are already familiar to make our analysis easy\n",
        "countrylist1=['Afghanistan', 'Bangladesh','Nepal','Zimbabwe','Myanmar']"
      ],
      "metadata": {
        "id": "4z0-2Xce4yDK"
      },
      "execution_count": null,
      "outputs": []
    },
    {
      "cell_type": "code",
      "source": [
        "df_lowerincome=df_lowerincome.loc[df_lowerincome['Country Name'].isin(countrylist1),:]"
      ],
      "metadata": {
        "id": "2gc-O6T-426M"
      },
      "execution_count": null,
      "outputs": []
    },
    {
      "cell_type": "code",
      "source": [
        "lowerincome_df_Population=df_lowerincome.loc[df_lowerincome['Topic']=='Health: Population: Dynamics',:]"
      ],
      "metadata": {
        "id": "8cHKFSvk46R0"
      },
      "execution_count": null,
      "outputs": []
    },
    {
      "cell_type": "code",
      "source": [
        "lowerincome_df_Population.columns"
      ],
      "metadata": {
        "id": "6hh1Uuly49Qb"
      },
      "execution_count": null,
      "outputs": []
    },
    {
      "cell_type": "code",
      "source": [
        "lowerincome_df_Population=lowerincome_df_Population[['Country Name', '2005', '2006','2007', '2008', '2009', '2010', '2011', '2012', '2013', '2014']]\n",
        "lowerincome_df_Population.info()"
      ],
      "metadata": {
        "id": "hEXy0CFp5BRQ"
      },
      "execution_count": null,
      "outputs": []
    },
    {
      "cell_type": "code",
      "source": [
        "# setting the country name as index\n",
        "lowerincome_df_Population.set_index(lowerincome_df_Population['Country Name'], inplace=True)\n",
        "# since country name is already our index so dropping the country name column\n",
        "lowerincome_df_Population.drop('Country Name',axis=1,inplace=True)\n",
        "lowerincome_df_Population.head()"
      ],
      "metadata": {
        "id": "0BlQ09Sg5DKz"
      },
      "execution_count": null,
      "outputs": []
    },
    {
      "cell_type": "code",
      "source": [
        "# using front fill to fill our NaN values in row\n",
        "lowerincome_df_Population=lowerincome_df_Population.ffill(axis=1)\n",
        "\n",
        "# taking transpose to make our plot easy, the x axis will contain the years\n",
        "lowerincome_df_Population=lowerincome_df_Population.transpose()\n",
        "lowerincome_df_Population"
      ],
      "metadata": {
        "id": "27gibg2a5Jrj"
      },
      "execution_count": null,
      "outputs": []
    },
    {
      "cell_type": "markdown",
      "source": [
        "##### Lower Middle Income Group"
      ],
      "metadata": {
        "id": "0eMKOPd25N3X"
      }
    },
    {
      "cell_type": "code",
      "source": [
        "# creating a function that will take a dataframe and list of countries and will return a dataframe with required columns and rows\n",
        "def newdf(anydf,countrylst):\n",
        "  anydf=anydf.loc[anydf['Country Name'].isin(countrylst),:]\n",
        "  anydf_df_Population=anydf.loc[anydf['Topic']=='Health: Population: Dynamics',:]\n",
        "  anydf_df_Population=anydf_df_Population[['Country Name', '2005', '2006','2007', '2008', '2009', '2010', '2011', '2012', '2013', '2014']]\n",
        "  anydf_df_Population.set_index(anydf_df_Population['Country Name'], inplace=True,)\n",
        "  anydf_df_Population.drop('Country Name',axis=1,inplace=True)\n",
        "  anydf_df_Population=anydf_df_Population.ffill(axis=1)\n",
        "  anydf_df_Population=anydf_df_Population.transpose()\n",
        "  return anydf_df_Population"
      ],
      "metadata": {
        "id": "x42XFYeA5RQt"
      },
      "execution_count": null,
      "outputs": []
    },
    {
      "cell_type": "code",
      "source": [
        "# dataframe for Lower middle Income group\n",
        "df_lowermiddle = merged_series_Data_country.loc[merged_series_Data_country['Income Group']=='Lower middle income']"
      ],
      "metadata": {
        "id": "o4Khv_ZQ5V_t"
      },
      "execution_count": null,
      "outputs": []
    },
    {
      "cell_type": "code",
      "source": [
        "# analysing the lower middle income group\n",
        "df_lowermiddle['Country Name'].unique()"
      ],
      "metadata": {
        "id": "1vhrfLSF5Z9z"
      },
      "execution_count": null,
      "outputs": []
    },
    {
      "cell_type": "code",
      "source": [
        "#created a list of some country names which we are already familiar to make our analysis easy\n",
        "countrylist2=['India','Sri Lanka','Pakistan','Bhutan','Indonesia']\n",
        "\n",
        "#calling function newdf to return a new dataframe with selected rows and columns\n",
        "lowermidDf = newdf(df_lowermiddle,countrylist2)\n",
        "lowermidDf"
      ],
      "metadata": {
        "id": "9ItC_bxO5kBk"
      },
      "execution_count": null,
      "outputs": []
    },
    {
      "cell_type": "markdown",
      "source": [
        "##### Uper Middle Income Group"
      ],
      "metadata": {
        "id": "afkcqYcP5rQX"
      }
    },
    {
      "cell_type": "code",
      "source": [
        "# dataframe for upper middle income group\n",
        "df_uppermiddle=merged_series_Data_country.loc[merged_series_Data_country['Income Group']=='Upper middle income']"
      ],
      "metadata": {
        "id": "7RVpfgTW5oSF"
      },
      "execution_count": null,
      "outputs": []
    },
    {
      "cell_type": "code",
      "source": [
        "df_uppermiddle['Country Name'].unique()"
      ],
      "metadata": {
        "id": "R93y1_wy5zRq"
      },
      "execution_count": null,
      "outputs": []
    },
    {
      "cell_type": "code",
      "source": [
        "#created a list of some country names which we are already familiar to make our analysis easy\n",
        "countrylist3=['China','Brazil','South Africa','Thailand','Malaysia']\n",
        "\n",
        "upper_middle_df = newdf(df_uppermiddle,countrylist3)\n",
        "upper_middle_df"
      ],
      "metadata": {
        "id": "pXUbFih352Tz"
      },
      "execution_count": null,
      "outputs": []
    },
    {
      "cell_type": "markdown",
      "source": [
        "##### Non-OECD High Income Group"
      ],
      "metadata": {
        "id": "KUBkbQDV562r"
      }
    },
    {
      "cell_type": "code",
      "source": [
        "# dataframe for higher Non-OECD Income group\n",
        "df_highincome_nonoecd=merged_series_Data_country.loc[merged_series_Data_country['Income Group']=='High income: nonOECD',:]"
      ],
      "metadata": {
        "id": "JopdfSxG6AiW"
      },
      "execution_count": null,
      "outputs": []
    },
    {
      "cell_type": "code",
      "source": [
        "df_highincome_nonoecd['Country Name'].unique()"
      ],
      "metadata": {
        "id": "PIcPiV8c6EpH"
      },
      "execution_count": null,
      "outputs": []
    },
    {
      "cell_type": "code",
      "source": [
        "#created a list of some country names which we are already familiar to make our analysis easy\n",
        "countrylist4 = ['Saudi Arabia', 'Singapore','United Arab Emirates','Kuwait','Oman']\n",
        "\n",
        "NonoecdDf=newdf(df_highincome_nonoecd,countrylist4)\n",
        "NonoecdDf"
      ],
      "metadata": {
        "id": "HigV-35S6Gs8"
      },
      "execution_count": null,
      "outputs": []
    },
    {
      "cell_type": "markdown",
      "source": [
        "##### OECD High income group"
      ],
      "metadata": {
        "id": "BbroDLMv6M9j"
      }
    },
    {
      "cell_type": "code",
      "source": [
        "#dataframe for higher income group OECD (OECD means Organisation for Economic Co-operation and Development)\n",
        "df_highincome_Oecd=merged_series_Data_country.loc[merged_series_Data_country['Income Group']=='High income: OECD',:]"
      ],
      "metadata": {
        "id": "AJqH2WfV6LQM"
      },
      "execution_count": null,
      "outputs": []
    },
    {
      "cell_type": "code",
      "source": [
        "df_highincome_Oecd['Country Name'].unique()"
      ],
      "metadata": {
        "id": "m0jfc-5c6Uuc"
      },
      "execution_count": null,
      "outputs": []
    },
    {
      "cell_type": "code",
      "source": [
        "countrylist5 = ['Australia','Canada','Japan','United Kingdom','United States']\n",
        "\n",
        "#calling the fuction that will return the required rows and columns\n",
        "oecdDf=newdf(df_highincome_Oecd,countrylist5)\n",
        "oecdDf"
      ],
      "metadata": {
        "id": "-C1id_q96ZZM"
      },
      "execution_count": null,
      "outputs": []
    },
    {
      "cell_type": "markdown",
      "source": [
        "##### Now we are adding to analyse for the five countries from all the five different income groups"
      ],
      "metadata": {
        "id": "eth6TKzb6eh-"
      }
    },
    {
      "cell_type": "code",
      "source": [
        "# this list has country names from all the five different income groups\n",
        "list6=['India','China','United States','Oman','Nepal']"
      ],
      "metadata": {
        "id": "RWqwncTI6mr9"
      },
      "execution_count": null,
      "outputs": []
    },
    {
      "cell_type": "code",
      "source": [
        "# now we are going to analyse for the five countries\n",
        "CombinePopulationDf=newdf(merged_series_Data_country,list6)"
      ],
      "metadata": {
        "id": "G0woVSdk6oSt"
      },
      "execution_count": null,
      "outputs": []
    },
    {
      "cell_type": "markdown",
      "source": [
        "#### Now try to visualize it  by line chart"
      ],
      "metadata": {
        "id": "SNIXq1H36v6W"
      }
    },
    {
      "cell_type": "code",
      "source": [
        "import matplotlib.pyplot as plt\n",
        "\n",
        "# Creating a 3x2 grid of subplots with a specified figure size\n",
        "fig, axs = plt.subplots(3, 2, figsize=(20, 25))\n",
        "\n",
        "# Defining the data and titles for each income group\n",
        "income_groups = [\n",
        "    (lowerincome_df_Population, \"Population Growth in Lower Income Group Countries\"),\n",
        "    (lowermidDf, \"Population Growth in Lower Middle Income Group Countries\"),\n",
        "    (upper_middle_df, \"Population Growth in Upper Middle Income Group Countries\"),\n",
        "    (NonoecdDf, \"Population Growth in Non-OECD High Income Group Countries\"),\n",
        "    (oecdDf, \"Population Growth in OECD High Income Group Countries\"),\n",
        "    (CombinePopulationDf, \"Population Growth in Countries from all Income Groups\")\n",
        "]\n",
        "\n",
        "# Customizing line colors and styles for different lines in the plot\n",
        "colors = ['blue', 'green', 'red', 'purple', 'orange', 'brown']\n",
        "line_styles = ['-', '--', '-.', ':', '-']\n",
        "\n",
        "# Iterating over each subplot in a flattened form\n",
        "for i, ax in enumerate(axs.flatten()):\n",
        "    # Retrieving the data and title for the current income group\n",
        "    data, title = income_groups[i]\n",
        "\n",
        "    # Ploting each line in the subplot with a different color and line style\n",
        "    for j, column in enumerate(data.columns):\n",
        "        ax.plot(data.index, data[column], color=colors[j % len(colors)], linestyle=line_styles[j % len(line_styles)])\n",
        "\n",
        "    # Adding a legend to show the names of the countries for each line\n",
        "    ax.legend(list(data.columns), loc='upper right', title='Countries')\n",
        "\n",
        "    # Setting the x-axis and y-axis labels\n",
        "    ax.set_xlabel(\"Years\")\n",
        "    ax.set_ylabel(\"Population Growth %\")\n",
        "\n",
        "    # Setting the title for the current subplot\n",
        "    ax.set_title(title)\n",
        "\n",
        "    # Adding gridlines to the plot\n",
        "    ax.grid(True, linestyle='--', linewidth=0.5)\n",
        "\n",
        "    # Customizing tick labels\n",
        "    ax.tick_params(axis='both', which='both', labelsize=10)\n",
        "\n",
        "# Adding a super title to the entire figure\n",
        "plt.suptitle(\"Population Growth in Different Income Group Countries\", fontsize=16, fontweight='bold')\n",
        "\n",
        "# Adjusting the layout to avoid overlapping of elements\n",
        "plt.tight_layout(rect=[0, 0, 1, 0.95])\n",
        "\n",
        "# Displaying the plot\n",
        "plt.show()\n"
      ],
      "metadata": {
        "id": "UteN2oAb-bEr"
      },
      "execution_count": null,
      "outputs": []
    },
    {
      "cell_type": "markdown",
      "source": [],
      "metadata": {
        "id": "O5YIexPQDEMI"
      }
    },
    {
      "cell_type": "markdown",
      "source": [
        "\n",
        "# Section B\n",
        "\n",
        "It Focuses on further analysis of the data. In this section, we will explore interesting points such as education trends, the percentage ratio of \"Developed Countries\" and \"Developing Countries,\" the GDP of the top and bottom three countries in both categories, a detailed analysis of the education scenario in India, and the observation of capital expenditure at various levels."
      ],
      "metadata": {
        "id": "rEIg_rdJEZDF"
      }
    },
    {
      "cell_type": "markdown",
      "source": [
        "`TASK 1:` Represent the distribution of countries on a pie chart based on their development status, distinguishing between developed and developing nations."
      ],
      "metadata": {
        "id": "4pYVWsNUG_Ot"
      }
    },
    {
      "cell_type": "markdown",
      "source": [
        "\n",
        "To ensure ease of analysis and prevent overlooking crucial observations, we have opted to include only the even years from the past two decades . The selected years are as follows: ['2000', '2002', '2004', '2006', '2008', '2010', '2012', '2014', '2016', '2020']. Also, we have kept two years ['2025', '2030'] for future referance.\n"
      ],
      "metadata": {
        "id": "vGkIY_ykHxeA"
      }
    },
    {
      "cell_type": "code",
      "source": [
        "# Selecting last two decades data and 2025 and 2030 for future reference\n",
        "data_copy=data_copy[['Country Name', 'Country Code', 'Indicator Name', 'Indicator Code','2000', '2002', '2004', '2006', '2008', '2010', '2012', '2014', '2016', '2020', '2025', '2030']].copy()\n"
      ],
      "metadata": {
        "id": "My7yxVIhIIrr"
      },
      "execution_count": null,
      "outputs": []
    },
    {
      "cell_type": "markdown",
      "source": [
        "The most recent World Bank Income classifications based on Gross National Income (GNI) per capita, which are updated annually on July 1st, are as follows:\n",
        "\n",
        "`Low income`: 1,025(USD) or less\n",
        "\n",
        "`Lower middle income`: 1,026(USD) to 4,035(USD)\n",
        "\n",
        "`Upper middle income`: 4,036(USD) to 12,475(USD)\n",
        "\n",
        "`High income`: 12,476(USD) or more\n",
        "\n",
        "In the context of these classifications, economies falling under the low- and middle-income categories are commonly referred to as developing economies. Conversely, countries categorized as upper middle income and high income are recognized as developed countries. This classification system helps to provide a framework for understanding and differentiating the economic status of nations. (Source: https://www.a4id.org/policy/understanding-the-developeddeveloping-country-taxonomy/)"
      ],
      "metadata": {
        "id": "9GfEeYNgJblO"
      }
    },
    {
      "cell_type": "markdown",
      "source": [
        "#### Let's compile the list of 'Developing Countries' and 'Developed Countries'."
      ],
      "metadata": {
        "id": "SjRMrHihVAQZ"
      }
    },
    {
      "cell_type": "code",
      "source": [
        "developing = [row['Table Name'] for index, row in df_EdStatsCountry.iterrows() if row['Income Group'] in ['Low income', 'Lower middle income']]\n",
        "developed = [row['Table Name'] for index, row in df_EdStatsCountry.iterrows() if row['Income Group'] in ['High income: nonOECD', 'Upper middle income', 'High income: OECD']]"
      ],
      "metadata": {
        "id": "XfW3ej7EVWxk"
      },
      "execution_count": null,
      "outputs": []
    },
    {
      "cell_type": "code",
      "source": [
        "# printing the list of developed and developing nations\n",
        "print('Developed Nations:', developed)\n",
        "print(\"Developing Nations:\", developing)"
      ],
      "metadata": {
        "id": "avtDMXFxVcZK"
      },
      "execution_count": null,
      "outputs": []
    },
    {
      "cell_type": "code",
      "source": [
        "# creatting a pie chart to describe the % ratio of developing and developed countries\n",
        "\n",
        "# Calculate the counts of developed and developing countries\n",
        "developed_count = len(developed)\n",
        "developing_count = len(developing)\n",
        "\n",
        "# Create the data and labels for the pie chart\n",
        "y = [developed_count, developing_count]\n",
        "labels = [\"Developed Countries\", \"Developing Countries\"]\n",
        "\n",
        "# Define custom colors for the pie chart\n",
        "colors = ['#FF6F91', '#56CBF9']\n",
        "\n",
        "# Set the figure size and create the pie chart\n",
        "plt.figure(figsize=(8, 8))\n",
        "plt.pie(y, labels=labels, autopct='%1.1f%%', colors=colors, startangle=90, shadow=True)\n",
        "\n",
        "# Customize font and text appearance\n",
        "plt.rcParams.update({'font.family': 'sans-serif', 'font.size': 12})\n",
        "\n",
        "# Add legend and title\n",
        "plt.legend()\n",
        "plt.title(\"Percentage Ratio of 'Developed Countries' and 'Developing Countries'\")\n",
        "\n",
        "# Display the pie chart\n",
        "plt.show()"
      ],
      "metadata": {
        "id": "othpJGlYVxpo"
      },
      "execution_count": null,
      "outputs": []
    },
    {
      "cell_type": "markdown",
      "source": [
        "`PART-II:`\n",
        "\n",
        "Our study focuses on conducting a comprehensive analysis of the education landscape in India. Specifically, we will be examining the education system in India over the past decade. While our analysis is specific to India, the same model can be applied to other countries as well.\n",
        "\n",
        "In this study, we will be conducting an analysis of primary, lower-secondary, upper-secondary, and tertiary education levels within the Indian population. Furthermore, we will be exploring these education levels in terms of gender breakdown."
      ],
      "metadata": {
        "id": "3INU1RhYalbZ"
      }
    },
    {
      "cell_type": "code",
      "source": [
        "#Lets make a copy which will have only 'India' under Country Name column\n",
        "data_india=data_copy[data_copy['Country Name']=='India']"
      ],
      "metadata": {
        "id": "dSsHg0QacDZ1"
      },
      "execution_count": null,
      "outputs": []
    },
    {
      "cell_type": "markdown",
      "source": [
        "TASK1: Analysis of Adjusted net enrolment rate calculated\n",
        "Adjusted net enrolment rate calculated by dividing the number of children in the official primary school age who are enrolled in primary or secondary education by the population of the same age group and multiplying by 100."
      ],
      "metadata": {
        "id": "oegivFfpcNPY"
      }
    },
    {
      "cell_type": "code",
      "source": [
        "AER_india=data_india.copy()"
      ],
      "metadata": {
        "id": "NlNFPCmccQRE"
      },
      "execution_count": null,
      "outputs": []
    },
    {
      "cell_type": "code",
      "source": [
        "AER_code_list=['UIS.NERA.2','UIS.NERA.2.F','UIS.NERA.2.M','SE.PRM.TENR','SE.PRM.TENR.FE','SE.PRM.TENR.MA','UIS.NERA.3','UIS.NERA.3.F','UIS.NERA.3.M']"
      ],
      "metadata": {
        "id": "g1Vyc1cdcRwA"
      },
      "execution_count": null,
      "outputs": []
    },
    {
      "cell_type": "code",
      "source": [
        "for index,row in AER_india.iterrows():\n",
        "  if row['Indicator Code'] in (AER_code_list):\n",
        "    pass\n",
        "  else:\n",
        "    AER_india.drop(index,inplace=True)"
      ],
      "metadata": {
        "id": "SvjDDeT0cVc5"
      },
      "execution_count": null,
      "outputs": []
    },
    {
      "cell_type": "code",
      "source": [
        "plt.rcParams['figure.figsize']=(15,8)\n",
        "#just choose certain years for proper anlysis\n",
        "AER_india.plot(y=['2000', '2002', '2004', '2006', '2008', '2010', '2012', '2014', '2016', '2020', '2025', '2030'],x='Indicator Name',kind='bar')\n",
        "plt.xticks(rotation=90)\n",
        "plt.grid(True)\n",
        "plt.title(\"Analysis of education scenario in India\")\n"
      ],
      "metadata": {
        "id": "shkZLuszcapC"
      },
      "execution_count": null,
      "outputs": []
    },
    {
      "cell_type": "markdown",
      "source": [
        "Now, lets focus on the education of young generation (age: 20 to 40) for even years from the past two decades"
      ],
      "metadata": {
        "id": "Ec4Hlys4cgMp"
      }
    },
    {
      "cell_type": "markdown",
      "source": [
        "TASK2: Barro-Lee: 20-24 age group education analysis"
      ],
      "metadata": {
        "id": "IyePtxySckbb"
      }
    },
    {
      "cell_type": "code",
      "source": [
        "edu2024_india=data_india.copy()"
      ],
      "metadata": {
        "id": "siQHxexocmo3"
      },
      "execution_count": null,
      "outputs": []
    },
    {
      "cell_type": "code",
      "source": [
        "edu2024_code_list=['BAR.NOED.2024.FE.ZS','BAR.PRM.CMPT.2024.FE.ZS','BAR.SEC.CMPT.2024.FE.ZS','BAR.TER.CMPT.2024.FE.ZS','BAR.NOED.2024.ZS','BAR.PRM.CMPT.2024.ZS','BAR.SEC.CMPT.2024.ZS','BAR.TER.CMPT.2024.ZS']"
      ],
      "metadata": {
        "id": "9bWXTdAecuFb"
      },
      "execution_count": null,
      "outputs": []
    },
    {
      "cell_type": "code",
      "source": [
        "for index,row in edu2024_india.iterrows():\n",
        "  if row['Indicator Code'] in (edu2024_code_list):\n",
        "    pass\n",
        "  else:\n",
        "    edu2024_india.drop(index,inplace=True)"
      ],
      "metadata": {
        "id": "xeg_832hcvyO"
      },
      "execution_count": null,
      "outputs": []
    },
    {
      "cell_type": "code",
      "source": [
        "plt.rcParams['figure.figsize']=(15,8)\n",
        "edu2024_india.plot(y=['2000', '2002', '2004', '2006', '2008', '2010', '2012', '2014', '2016', '2020', '2025', '2030'],x='Indicator Name',kind='bar')\n",
        "plt.xticks(rotation=90)\n",
        "plt.grid(True)\n",
        "plt.title(\"Barro-Lee: 20-24 age group education analysis\")"
      ],
      "metadata": {
        "id": "BiWZ_tihc04a"
      },
      "execution_count": null,
      "outputs": []
    },
    {
      "cell_type": "markdown",
      "source": [
        "## TASK3: Barro-Lee: 25-29 age group education analysis"
      ],
      "metadata": {
        "id": "UgXVcuh9c56h"
      }
    },
    {
      "cell_type": "code",
      "source": [
        "edu2529_india=data_india.copy()"
      ],
      "metadata": {
        "id": "sDpEEm61c-Cj"
      },
      "execution_count": null,
      "outputs": []
    },
    {
      "cell_type": "code",
      "source": [
        "edu2529_code_list=['BAR.NOED.2529.FE.ZS','BAR.NOED.2529.ZS','BAR.PRM.CMPT.2529.FE.ZS', 'BAR.PRM.CMPT.2529.ZS','BAR.SEC.CMPT.2529.FE.ZS','BAR.SEC.CMPT.2529.ZS','BAR.TER.CMPT.2529.FE.ZS','BAR.TER.CMPT.2529.ZS']"
      ],
      "metadata": {
        "id": "xzPZaO2QdBJ5"
      },
      "execution_count": null,
      "outputs": []
    },
    {
      "cell_type": "code",
      "source": [
        "for index,row in edu2529_india.iterrows():\n",
        "  if row['Indicator Code'] in (edu2529_code_list):\n",
        "    pass\n",
        "  else:\n",
        "    edu2529_india.drop(index,inplace=True)"
      ],
      "metadata": {
        "id": "eU2DIuXddENv"
      },
      "execution_count": null,
      "outputs": []
    },
    {
      "cell_type": "code",
      "source": [
        "plt.rcParams['figure.figsize']=(15,8)\n",
        "edu2529_india.plot(y=['2000', '2002', '2004', '2006', '2008', '2010', '2012', '2014', '2016', '2020', '2025', '2030'],x='Indicator Name',kind='bar')\n",
        "plt.xticks(rotation=90)\n",
        "plt.grid()\n",
        "plt.title(\"Barro-Lee: 25-29 age group education analysis\")"
      ],
      "metadata": {
        "id": "JSfkscMvdHZf"
      },
      "execution_count": null,
      "outputs": []
    },
    {
      "cell_type": "markdown",
      "source": [
        "## TASK4: Barro-Lee: 30-34 age group education analysis"
      ],
      "metadata": {
        "id": "fuwqPUSXdX4K"
      }
    },
    {
      "cell_type": "code",
      "source": [
        "edu3034_india=data_india.copy()"
      ],
      "metadata": {
        "id": "8CXyG730dW-Q"
      },
      "execution_count": null,
      "outputs": []
    },
    {
      "cell_type": "code",
      "source": [
        "edu3034_code_list=['BAR.NOED.3034.FE.ZS','BAR.PRM.CMPT.3034.FE.ZS','BAR.SEC.CMPT.3034.FE.ZS','BAR.TER.CMPT.3034.FE.ZS','BAR.NOED.3034.ZS','BAR.PRM.CMPT.3034.ZS','BAR.SEC.CMPT.3034.ZS','BAR.TER.CMPT.3034.ZS']"
      ],
      "metadata": {
        "id": "pGHCJ_srde1J"
      },
      "execution_count": null,
      "outputs": []
    },
    {
      "cell_type": "code",
      "source": [
        "for index,row in edu3034_india.iterrows():\n",
        "  if row['Indicator Code'] in (edu3034_code_list):\n",
        "    pass\n",
        "  else:\n",
        "    edu3034_india.drop(index,inplace=True)"
      ],
      "metadata": {
        "id": "GBdB3jlYdjkf"
      },
      "execution_count": null,
      "outputs": []
    },
    {
      "cell_type": "code",
      "source": [
        "plt.rcParams['figure.figsize']=(15,8)\n",
        "edu3034_india.plot(y=['2000', '2002', '2004', '2006', '2008', '2010', '2012', '2014', '2016', '2020', '2025', '2030'],x='Indicator Name',kind='bar')\n",
        "plt.xticks(rotation=90)\n",
        "plt.grid(True)\n",
        "plt.title(\"Barro-Lee: 30-34 age group education analysis\")"
      ],
      "metadata": {
        "id": "BedQeqpDdm5W"
      },
      "execution_count": null,
      "outputs": []
    },
    {
      "cell_type": "markdown",
      "source": [
        "## TASK5: Barro-Lee: 35-39 age group education analysis"
      ],
      "metadata": {
        "id": "lve9dzxpdwPQ"
      }
    },
    {
      "cell_type": "code",
      "source": [
        "edu3539_india=data_india.copy()"
      ],
      "metadata": {
        "id": "gdF0g6jGdw-H"
      },
      "execution_count": null,
      "outputs": []
    },
    {
      "cell_type": "code",
      "source": [
        "edu3539_code_list=['BAR.NOED.3539.FE.ZS','BAR.PRM.CMPT.3539.FE.ZS','BAR.SEC.CMPT.3539.FE.ZS','BAR.TER.CMPT.3539.FE.ZS','BAR.NOED.3539.ZS','BAR.PRM.CMPT.3539.ZS','BAR.SEC.CMPT.3539.ZS','BAR.TER.CMPT.3539.ZS']"
      ],
      "metadata": {
        "id": "QTrAvH8Ddxn4"
      },
      "execution_count": null,
      "outputs": []
    },
    {
      "cell_type": "code",
      "source": [
        "for index,row in edu3539_india.iterrows():\n",
        "  if row['Indicator Code'] in (edu3539_code_list):\n",
        "    pass\n",
        "  else:\n",
        "    edu3539_india.drop(index,inplace=True)"
      ],
      "metadata": {
        "id": "qlUjkVTedyUv"
      },
      "execution_count": null,
      "outputs": []
    },
    {
      "cell_type": "code",
      "source": [
        "plt.rcParams['figure.figsize']=(15,8)\n",
        "edu3539_india.plot(y=['2000', '2002', '2004', '2006', '2008', '2010', '2012', '2014', '2016', '2020', '2025', '2030'],x='Indicator Name',kind='bar')\n",
        "plt.xticks(rotation=90)\n",
        "plt.grid(True)\n",
        "plt.title(\"Barro-Lee: 35-39 age group education analysis\")"
      ],
      "metadata": {
        "id": "s-E4j8g7dzo3"
      },
      "execution_count": null,
      "outputs": []
    },
    {
      "cell_type": "markdown",
      "source": [
        "TASK6: Observe the capital expenditure at various levels"
      ],
      "metadata": {
        "id": "qnY1VdkOeKJv"
      }
    },
    {
      "cell_type": "code",
      "source": [
        "exp_edu_india=data_india.copy()"
      ],
      "metadata": {
        "id": "X-R8byy1eJdI"
      },
      "execution_count": null,
      "outputs": []
    },
    {
      "cell_type": "code",
      "source": [
        "expenditure_list=['UIS.XSPENDP.2.FDPUB.FNCAP','UIS.XSPENDP.1.FDPUB.FNCAP','UIS.XSPENDP.FDPUB.FNCAP','UIS.XSPENDP.23.FDPUB.FNCAP','UIS.XSPENDP.56.FDPUB.FNCAP','UIS.XSPENDP.3.FDPUB.FNCAP']\n"
      ],
      "metadata": {
        "id": "Kzq2mBMueMrA"
      },
      "execution_count": null,
      "outputs": []
    },
    {
      "cell_type": "code",
      "source": [
        "for index,row in exp_edu_india.iterrows():\n",
        "  if row['Indicator Code'] in (expenditure_list):\n",
        "    pass\n",
        "  else:\n",
        "    exp_edu_india.drop(index,inplace=True)"
      ],
      "metadata": {
        "id": "IMzY52RReLi5"
      },
      "execution_count": null,
      "outputs": []
    },
    {
      "cell_type": "code",
      "source": [
        "exp_edu_india.plot(y=['2000', '2002', '2004', '2006', '2008', '2010', '2012', '2014', '2016', '2020', '2025', '2030'],x='Indicator Name')\n",
        "plt.xticks(rotation=90)\n",
        "plt.grid(True)\n",
        "plt.title('The capital expenditure at various levels')"
      ],
      "metadata": {
        "id": "0hHMqvYCeK2g"
      },
      "execution_count": null,
      "outputs": []
    },
    {
      "cell_type": "markdown",
      "source": [
        "Task 7: Find the co-relation between factors on affecting the GDP of India"
      ],
      "metadata": {
        "id": "US0qFIiDetRO"
      }
    },
    {
      "cell_type": "code",
      "source": [
        "analysis_india=data_india.copy()"
      ],
      "metadata": {
        "id": "WHL9JMhhevVx"
      },
      "execution_count": null,
      "outputs": []
    },
    {
      "cell_type": "code",
      "source": [
        "analysis_gdp_edu=['NY.GDP.PCAP.PP.CD','SP.POP.GROW','BAR.NOED.2024.ZS','BAR.NOED.2529.ZS','BAR.NOED.3034.ZS','BAR.NOED.3539.ZS','IT.NET.USER.P2','IT.CMP.PCMP.P2']"
      ],
      "metadata": {
        "id": "ZFFCE2a_exGQ"
      },
      "execution_count": null,
      "outputs": []
    },
    {
      "cell_type": "code",
      "source": [
        "for index,row in analysis_india.iterrows():\n",
        "  if row['Indicator Code'] in (analysis_gdp_edu):\n",
        "    pass\n",
        "  else:\n",
        "    analysis_india.drop(index,inplace=True)"
      ],
      "metadata": {
        "id": "9KKWV7Kneu3F"
      },
      "execution_count": null,
      "outputs": []
    },
    {
      "cell_type": "code",
      "source": [
        "analysis_india.head()"
      ],
      "metadata": {
        "id": "ZoTdv7NDeuYs"
      },
      "execution_count": null,
      "outputs": []
    },
    {
      "cell_type": "code",
      "source": [
        "analysis_india.drop(['Country Name','Country Code','Indicator Code'],axis=1,inplace=True)\n",
        "analysis_india.set_index('Indicator Name',inplace=True)"
      ],
      "metadata": {
        "id": "vgxm0qXze_nK"
      },
      "execution_count": null,
      "outputs": []
    },
    {
      "cell_type": "code",
      "source": [
        "analysis_india=analysis_india.transpose()"
      ],
      "metadata": {
        "id": "okqFBWtEfCD2"
      },
      "execution_count": null,
      "outputs": []
    },
    {
      "cell_type": "code",
      "source": [
        "sns.heatmap(analysis_india.corr(), cmap=\"Spectral\",vmin=-1,vmax=1,linewidth=0.5, linecolor='black',annot=True)"
      ],
      "metadata": {
        "id": "sDSyKzpffHi-"
      },
      "execution_count": null,
      "outputs": []
    },
    {
      "cell_type": "markdown",
      "source": [
        "## **5. Solution to Business Objective**"
      ],
      "metadata": {
        "id": "JcMwzZxoAimU"
      }
    },
    {
      "cell_type": "markdown",
      "source": [
        "#### What do you suggest the client to achieve Business Objective ?\n",
        "Explain Briefly."
      ],
      "metadata": {
        "id": "8G2x9gOozGDZ"
      }
    },
    {
      "cell_type": "markdown",
      "source": [
        "Answer Here."
      ],
      "metadata": {
        "id": "pASKb0qOza21"
      }
    },
    {
      "cell_type": "markdown",
      "source": [
        "# **Conclusion**"
      ],
      "metadata": {
        "id": "gCX9965dhzqZ"
      }
    },
    {
      "cell_type": "markdown",
      "source": [
        "Write the conclusion here."
      ],
      "metadata": {
        "id": "Fjb1IsQkh3yE"
      }
    },
    {
      "cell_type": "markdown",
      "source": [
        "### ***Hurrah! You have successfully completed your EDA Capstone Project !!!***"
      ],
      "metadata": {
        "id": "gIfDvo9L0UH2"
      }
    }
  ]
}